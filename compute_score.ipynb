{
 "cells": [
  {
   "cell_type": "code",
   "execution_count": 1,
   "metadata": {},
   "outputs": [],
   "source": [
    "import os\n",
    "import json\n",
    "import numpy as np\n",
    "from tqdm.auto import tqdm\n",
    "import matplotlib.pyplot as plt"
   ]
  },
  {
   "cell_type": "code",
   "execution_count": 2,
   "metadata": {},
   "outputs": [],
   "source": [
    "def read_label(json_path):\n",
    "    with open(json_path, 'r') as f:\n",
    "        label = json.load(f)\n",
    "    output = []\n",
    "    for ele in label:\n",
    "        output += [w for w in ele['l']]\n",
    "    return output"
   ]
  },
  {
   "cell_type": "code",
   "execution_count": 3,
   "metadata": {},
   "outputs": [],
   "source": [
    "TRAIN_DIR = f'data/train/'\n",
    "TEST_DIR = f'data/public_test'\n",
    "VERSION = '250h_pretrained'\n",
    "VALID_PRED_DIR = f'valid_predictions/{VERSION}/'"
   ]
  },
  {
   "cell_type": "code",
   "execution_count": 4,
   "metadata": {},
   "outputs": [],
   "source": [
    "def compute_iou(s1, e1, s2, e2):\n",
    "    # intersection = np.maximum(np.minimum(e1-s2, e2-s1), 0)\n",
    "    ixmin = np.maximum(s1, s2)\n",
    "    ixmax = np.minimum(e1, e2)\n",
    "    intersection = np.maximum(ixmax-ixmin, 0.)\n",
    "    # print(intersection)\n",
    "    union = (e2-s2) + (e1-s1) - intersection\n",
    "    # print(union)\n",
    "    return (intersection / union).mean()"
   ]
  },
  {
   "cell_type": "code",
   "execution_count": 5,
   "metadata": {},
   "outputs": [
    {
     "name": "stderr",
     "output_type": "stream",
     "text": [
      "100%|██████████| 1057/1057 [00:00<00:00, 2535.30it/s]\n"
     ]
    }
   ],
   "source": [
    "all_ious = []\n",
    "for fname in tqdm(os.listdir(VALID_PRED_DIR)):\n",
    "    name = fname.replace('.json', '')\n",
    "    gt_path = f'{TRAIN_DIR}/labels/{name}.json'\n",
    "    pred_path = f'valid_predictions/{VERSION}/{name}.json'\n",
    "\n",
    "    gt = read_label(gt_path)\n",
    "    pred = read_label(pred_path)\n",
    "\n",
    "    gt_s = np.array([x['s'] for x in gt])\n",
    "    gt_e = np.array([x['e'] for x in gt]) \n",
    "    pred_s = np.array([x['s'] for x in pred])\n",
    "    pred_e = np.array([x['e'] for x in pred])\n",
    "\n",
    "    iou = compute_iou(gt_s, gt_e, pred_s, pred_e)\n",
    "    all_ious.append(iou)"
   ]
  },
  {
   "cell_type": "code",
   "execution_count": 6,
   "metadata": {},
   "outputs": [
    {
     "data": {
      "text/plain": [
       "{'whiskers': [<matplotlib.lines.Line2D at 0x7fc6d9663240>,\n",
       "  <matplotlib.lines.Line2D at 0x7fc6d9663438>],\n",
       " 'caps': [<matplotlib.lines.Line2D at 0x7fc6d96637b8>,\n",
       "  <matplotlib.lines.Line2D at 0x7fc6d9663a90>],\n",
       " 'boxes': [<matplotlib.lines.Line2D at 0x7fc6d9651f98>],\n",
       " 'medians': [<matplotlib.lines.Line2D at 0x7fc6d9663d68>],\n",
       " 'fliers': [<matplotlib.lines.Line2D at 0x7fc6d9672080>],\n",
       " 'means': []}"
      ]
     },
     "execution_count": 6,
     "metadata": {},
     "output_type": "execute_result"
    },
    {
     "data": {
      "image/png": "[encoded data removed]",
      "text/plain": [
       "<Figure size 432x288 with 1 Axes>"
      ]
     },
     "metadata": {
      "needs_background": "light"
     },
     "output_type": "display_data"
    }
   ],
   "source": [
    "plt.boxplot(all_ious)"
   ]
  },
  {
   "cell_type": "code",
   "execution_count": 7,
   "metadata": {},
   "outputs": [
    {
     "data": {
      "text/plain": [
       "0.30628141127338815"
      ]
     },
     "execution_count": 7,
     "metadata": {},
     "output_type": "execute_result"
    }
   ],
   "source": [
    "np.mean(all_ious)"
   ]
  },
  {
   "cell_type": "code",
   "execution_count": null,
   "metadata": {},
   "outputs": [],
   "source": []
  }
 ],
 "metadata": {
  "kernelspec": {
   "display_name": "Python 3.6.12 ('pytorch')",
   "language": "python",
   "name": "python3"
  },
  "language_info": {
   "codemirror_mode": {
    "name": "ipython",
    "version": 3
   },
   "file_extension": ".py",
   "mimetype": "text/x-python",
   "name": "python",
   "nbconvert_exporter": "python",
   "pygments_lexer": "ipython3",
   "version": "3.6.12"
  },
  "orig_nbformat": 4,
  "vscode": {
   "interpreter": {
    "hash": "f5b916051ec391ef3c1c0123575e59cad2c35863d294dd079abc5845c0e5babb"
   }
  }
 },
 "nbformat": 4,
 "nbformat_minor": 2
}
